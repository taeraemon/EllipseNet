{
 "cells": [
  {
   "cell_type": "markdown",
   "metadata": {},
   "source": [
    "# Debug ellipse angle loss"
   ]
  },
  {
   "cell_type": "code",
   "execution_count": 1,
   "metadata": {},
   "outputs": [],
   "source": [
    "import os\n",
    "import sys\n",
    "import math\n",
    "\n",
    "import numpy\n",
    "as np\n",
    "import torch\n",
    "import torch.nn as nn\n",
    "import torch.nn.functional as F"
   ]
  },
  {
   "cell_type": "code",
   "execution_count": 2,
   "metadata": {},
   "outputs": [],
   "source": [
    "lib_path = os.path.join('../src/lib')\n",
    "if not lib_path in sys.path:\n",
    "    sys.path.append(lib_path)\n",
    "    \n",
    "lib_path = os.path.join('../src/')\n",
    "if not lib_path in sys.path:\n",
    "    sys.path.append(lib_path)\n",
    "    \n",
    "from models.losses import RegL1Loss4Angle"
   ]
  },
  {
   "cell_type": "code",
   "execution_count": 25,
   "metadata": {},
   "outputs": [
    {
     "name": "stdout",
     "output_type": "stream",
     "text": [
      "tensor(4.7124) tensor(-1.) tensor(1.1925e-08) tensor(-1.5708)\n"
     ]
    }
   ],
   "source": [
    "a1 = 180 / 180 * math.pi\n",
    "a2 = -90 / 180 * math.pi\n",
    "\n",
    "pred_angle = torch.tensor(a1)\n",
    "true_angle = torch.tensor(a2)\n",
    "diff_angle = pred_angle - true_angle\n",
    "sin, cos = torch.sin(diff_angle), torch.cos(diff_angle)\n",
    "mask = torch.ones_like(cos)\n",
    "mask(cos < 0) = 1\n",
    "loss = torch.atan2(sin, cos) if cos >=0 else torch.atan2(-sin, -cos)\n",
    "print(diff_angle, sin, cos, loss)"
   ]
  },
  {
   "cell_type": "code",
   "execution_count": 98,
   "metadata": {},
   "outputs": [],
   "source": [
    "def angle_loss(pred_angle, true_angle, size_average=False):\n",
    "    diff_angle = (pred_angle - true_angle) * math.pi\n",
    "    sin, cos = torch.sin(diff_angle), torch.cos(diff_angle)\n",
    "    mask = torch.ones_like(cos)\n",
    "    mask[cos < 0] = -1\n",
    "    sin, cos = sin * mask, cos * mask\n",
    "    loss = F.l1_loss(torch.atan2(sin, cos), torch.zeros_like(sin), size_average=False) #if cos >=0 else torch.atan2(-sin, -cos)\n",
    "    return loss"
   ]
  },
  {
   "cell_type": "code",
   "execution_count": 72,
   "metadata": {},
   "outputs": [
    {
     "data": {
      "text/plain": [
       "tensor(1.2566)"
      ]
     },
     "execution_count": 72,
     "metadata": {},
     "output_type": "execute_result"
    }
   ],
   "source": [
    "pred_angle = torch.tensor(0.4)\n",
    "true_angle = torch.tensor(1)\n",
    "diff_angle = (pred_angle - true_angle) * math.pi\n",
    "angle_loss(pred_angle, true_angle)"
   ]
  },
  {
   "cell_type": "code",
   "execution_count": 89,
   "metadata": {},
   "outputs": [
    {
     "data": {
      "text/plain": [
       "1.2042666812371667"
      ]
     },
     "execution_count": 89,
     "metadata": {},
     "output_type": "execute_result"
    }
   ],
   "source": [
    "np.mean(np.abs([1.2566e+00,  1.2566e+00, -1.5708e+00, -8.7423e-08, -1.5708e+00, 1.5708e+00]))"
   ]
  },
  {
   "cell_type": "code",
   "execution_count": 4,
   "metadata": {},
   "outputs": [],
   "source": [
    "pred_angle = torch.tensor([1,    1,    2,  0,  1, 0.5])\n",
    "true_angle = torch.tensor([-0.4, 0.6, 0.5, 1, 0.5, 1])\n",
    "diff_angle = (pred_angle - true_angle) * math.pi\n",
    "sin, cos = torch.sin(diff_angle), torch.cos(diff_angle)\n",
    "angle_loss(pred_angle, true_angle)\n",
    "# tensor([ 1.2566e+00,  1.2566e+00, -1.5708e+00, -8.7423e-08, -1.5708e+00, 1.5708e+00])"
   ]
  },
  {
   "cell_type": "code",
   "execution_count": 31,
   "metadata": {},
   "outputs": [],
   "source": [
    "def _gather_feat(feat, ind, mask=None):\n",
    "    dim  = feat.size(2)\n",
    "    ind  = ind.unsqueeze(2).expand(ind.size(0), ind.size(1), dim)\n",
    "    feat = feat.gather(1, ind)\n",
    "    if mask is not None:\n",
    "        mask = mask.unsqueeze(2).expand_as(feat)\n",
    "        feat = feat[mask]\n",
    "        feat = feat.view(-1, dim)\n",
    "    return feat\n",
    "\n",
    "def _transpose_and_gather_feat(feat, ind):\n",
    "    feat = feat.permute(0, 2, 3, 1).contiguous()\n",
    "    feat = feat.view(feat.size(0), -1, feat.size(3))\n",
    "    feat = _gather_feat(feat, ind)\n",
    "    return feat"
   ]
  },
  {
   "cell_type": "code",
   "execution_count": 6,
   "metadata": {},
   "outputs": [
    {
     "name": "stdout",
     "output_type": "stream",
     "text": [
      "torch.Size([16, 1, 128, 128]) torch.Size([16, 2]) torch.Size([16, 2]) torch.Size([16, 2, 1])\n"
     ]
    }
   ],
   "source": [
    "ind = torch.tensor(np.random.randint(0, 10, [16, 2])) \n",
    "mask = torch.tensor(np.ones([16, 2])) \n",
    "target = torch.tensor(np.ones([16, 2, 1])) * 0.5 \n",
    "feat = torch.tensor(np.zeros([16, 1, 128, 128]))\n",
    "print(feat.shape, mask.shape, ind.shape, target.shape)\n",
    "# feat = feat.permute(0, 2, 3, 1).contiguous() # (16, 128, 128, 1)\n",
    "# feat = feat.view(feat.size(0), -1, feat.size(3)) # （16, 16384, 1）\n",
    "# feat = _gather_feat(feat, ind) # (16, 2, 1)\n",
    "# feat.shape"
   ]
  },
  {
   "cell_type": "code",
   "execution_count": 100,
   "metadata": {},
   "outputs": [],
   "source": [
    "class RegL1Loss(nn.Module):\n",
    "  def __init__(self):\n",
    "    super(RegL1Loss, self).__init__()\n",
    "  \n",
    "  def forward(self, output, mask, ind, target):\n",
    "    pred = _transpose_and_gather_feat(output, ind)\n",
    "    mask = mask.unsqueeze(2).expand_as(pred).float()\n",
    "    # loss = F.l1_loss(pred * mask, target * mask, reduction='elementwise_mean')\n",
    "    loss = F.l1_loss(pred * mask, target * mask, size_average=False)\n",
    "    loss = loss / (mask.sum() + 1e-4)\n",
    "    return loss\n",
    "\n",
    "class RegL1Loss4Angle(nn.Module):\n",
    "  def __init__(self):\n",
    "    super(RegL1Loss4Angle, self).__init__()\n",
    "  \n",
    "  def forward(self, output, mask, ind, target):\n",
    "    pred = _transpose_and_gather_feat(output, ind)\n",
    "    mask = mask.unsqueeze(2).expand_as(pred).float()\n",
    "    # loss = F.l1_loss(pred * mask, target * mask, reduction='elementwise_mean')\n",
    "    loss = angle_loss(pred * mask, target * mask, size_average=False)\n",
    "    loss = loss / (mask.sum() + 1e-4)\n",
    "    return loss"
   ]
  },
  {
   "cell_type": "code",
   "execution_count": 65,
   "metadata": {},
   "outputs": [
    {
     "name": "stdout",
     "output_type": "stream",
     "text": [
      "Automatic pdb calling has been turned OFF\n"
     ]
    }
   ],
   "source": [
    "%pdb off"
   ]
  },
  {
   "cell_type": "code",
   "execution_count": 8,
   "metadata": {},
   "outputs": [
    {
     "data": {
      "text/plain": [
       "tensor(1.0708, dtype=torch.float64)"
      ]
     },
     "execution_count": 8,
     "metadata": {},
     "output_type": "execute_result"
    }
   ],
   "source": [
    "RegL1Loss4Angle(True)(feat, mask, ind, target)"
   ]
  },
  {
   "cell_type": "code",
   "execution_count": 37,
   "metadata": {},
   "outputs": [
    {
     "data": {
      "text/plain": [
       "(torch.Size([16, 2, 128, 128]), torch.Size([16, 1, 128, 128]))"
      ]
     },
     "execution_count": 37,
     "metadata": {},
     "output_type": "execute_result"
    }
   ],
   "source": [
    "feat = torch.tensor(np.ndarray([16, 2, 128, 128]))\n",
    "mask = torch.tensor(np.zeros([16, 1, 128, 128]))\n",
    "feat.shape, mask.shape"
   ]
  },
  {
   "cell_type": "code",
   "execution_count": null,
   "metadata": {},
   "outputs": [],
   "source": [
    "class RegL1Loss(nn.Module):\n",
    "  def __init__(self):\n",
    "    super(RegL1Loss, self).__init__()\n",
    "  \n",
    "  def forward(self, output, mask, ind, target):\n",
    "    pred = _transpose_and_gather_feat(output, ind)\n",
    "    mask = mask.unsqueeze(2).expand_as(pred).float()\n",
    "    # loss = F.l1_loss(pred * mask, target * mask, reduction='elementwise_mean')\n",
    "    loss = F.l1_loss(pred * mask, target * mask, size_average=False)\n",
    "    loss = loss / (mask.sum() + 1e-4)\n",
    "    return loss"
   ]
  }
 ],
 "metadata": {
  "kernelspec": {
   "display_name": "Python 3",
   "language": "python",
   "name": "python3"
  },
  "language_info": {
   "codemirror_mode": {
    "name": "ipython",
    "version": 3
   },
   "file_extension": ".py",
   "mimetype": "text/x-python",
   "name": "python",
   "nbconvert_exporter": "python",
   "pygments_lexer": "ipython3",
   "version": "3.7.9"
  }
 },
 "nbformat": 4,
 "nbformat_minor": 4
}
